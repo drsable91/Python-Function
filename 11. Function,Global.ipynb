{
 "cells": [
  {
   "cell_type": "code",
   "execution_count": null,
   "id": "3cecf99e",
   "metadata": {},
   "outputs": [],
   "source": []
  },
  {
   "cell_type": "markdown",
   "id": "c8cf6c8e",
   "metadata": {},
   "source": [
    "#  Agenda\n",
    "\n",
    "* Function\n",
    "* lambda"
   ]
  },
  {
   "cell_type": "code",
   "execution_count": null,
   "id": "3286a4fa",
   "metadata": {},
   "outputs": [],
   "source": []
  },
  {
   "cell_type": "markdown",
   "id": "470dd8aa",
   "metadata": {},
   "source": [
    "# Python Function\n",
    "\n",
    "* A function is a block of code which only runs when it is called\n",
    "* You can pass data known as parameter into a function\n",
    "* A function can return data as a result"
   ]
  },
  {
   "cell_type": "markdown",
   "id": "c6bc7e03",
   "metadata": {},
   "source": [
    "## Creating a function\n",
    "\n",
    "In Python a function is dfining using the del keyword"
   ]
  },
  {
   "cell_type": "code",
   "execution_count": 1,
   "id": "d3b8beb5",
   "metadata": {},
   "outputs": [],
   "source": [
    "def abc():\n",
    "    print(\"Good Afternoon\")"
   ]
  },
  {
   "cell_type": "code",
   "execution_count": 2,
   "id": "4ef48942",
   "metadata": {},
   "outputs": [
    {
     "name": "stdout",
     "output_type": "stream",
     "text": [
      "Good Afternoon\n"
     ]
    }
   ],
   "source": [
    "abc()"
   ]
  },
  {
   "cell_type": "markdown",
   "id": "1cc997c6",
   "metadata": {},
   "source": [
    "## Calling a Function\n",
    "\n",
    "To call a function, use the function name followed by parenthesis"
   ]
  },
  {
   "cell_type": "code",
   "execution_count": 3,
   "id": "6bc29844",
   "metadata": {},
   "outputs": [],
   "source": [
    "def my_function():\n",
    "    print(\"Hello from a function\")"
   ]
  },
  {
   "cell_type": "code",
   "execution_count": 4,
   "id": "4a7ef973",
   "metadata": {},
   "outputs": [
    {
     "name": "stdout",
     "output_type": "stream",
     "text": [
      "Hello from a function\n"
     ]
    }
   ],
   "source": [
    "my_function()"
   ]
  },
  {
   "cell_type": "markdown",
   "id": "f8fed76c",
   "metadata": {},
   "source": [
    "# Function without Parameter"
   ]
  },
  {
   "cell_type": "code",
   "execution_count": 15,
   "id": "5128ee5f",
   "metadata": {},
   "outputs": [],
   "source": [
    "def miss():\n",
    "    y='curd'\n",
    "    if y==\"curd\":\n",
    "        print(\"Here is your food\")\n",
    "    else:\n",
    "        print(\"Invalid\")"
   ]
  },
  {
   "cell_type": "code",
   "execution_count": 16,
   "id": "6549ce63",
   "metadata": {},
   "outputs": [
    {
     "name": "stdout",
     "output_type": "stream",
     "text": [
      "Here is your food\n"
     ]
    }
   ],
   "source": [
    "miss()"
   ]
  },
  {
   "cell_type": "code",
   "execution_count": null,
   "id": "0aa83643",
   "metadata": {},
   "outputs": [],
   "source": [
    "def miss():\n",
    "    print(\"Food is missed\")"
   ]
  },
  {
   "cell_type": "markdown",
   "id": "557174f7",
   "metadata": {},
   "source": [
    "# Function with Parameters "
   ]
  },
  {
   "cell_type": "code",
   "execution_count": 24,
   "id": "1e473503",
   "metadata": {},
   "outputs": [],
   "source": [
    "def abc(first_name):\n",
    "    print(first_name + \" All good\" + \", Good Evenong\")"
   ]
  },
  {
   "cell_type": "code",
   "execution_count": 25,
   "id": "88d5de22",
   "metadata": {},
   "outputs": [
    {
     "name": "stdout",
     "output_type": "stream",
     "text": [
      "Digambar All good, Good Evenong\n"
     ]
    }
   ],
   "source": [
    "abc(\"Digambar\")"
   ]
  },
  {
   "cell_type": "code",
   "execution_count": 11,
   "id": "16288edd",
   "metadata": {},
   "outputs": [],
   "source": [
    "def my_function(a,b):\n",
    "    total=a+b\n",
    "    sub=total/2\n",
    "    return (total,sub)"
   ]
  },
  {
   "cell_type": "code",
   "execution_count": 12,
   "id": "57dd0b1c",
   "metadata": {},
   "outputs": [
    {
     "data": {
      "text/plain": [
       "(10, 5.0)"
      ]
     },
     "execution_count": 12,
     "metadata": {},
     "output_type": "execute_result"
    }
   ],
   "source": [
    "my_function(7,3)"
   ]
  },
  {
   "cell_type": "code",
   "execution_count": 18,
   "id": "597721ef",
   "metadata": {},
   "outputs": [],
   "source": [
    "def Substration(a,b,c):\n",
    "    x=a-b-c\n",
    "    y=a+b+c\n",
    "    z=x+y\n",
    "    un=x-y\n",
    "    return z"
   ]
  },
  {
   "cell_type": "code",
   "execution_count": 17,
   "id": "779af2e4",
   "metadata": {},
   "outputs": [
    {
     "ename": "NameError",
     "evalue": "name 'Substration' is not defined",
     "output_type": "error",
     "traceback": [
      "\u001b[1;31m---------------------------------------------------------------------------\u001b[0m",
      "\u001b[1;31mNameError\u001b[0m                                 Traceback (most recent call last)",
      "\u001b[1;32m~\\AppData\\Local\\Temp/ipykernel_22436/2744904770.py\u001b[0m in \u001b[0;36m<module>\u001b[1;34m\u001b[0m\n\u001b[1;32m----> 1\u001b[1;33m \u001b[0mSubstration\u001b[0m\u001b[1;33m(\u001b[0m\u001b[1;36m10\u001b[0m\u001b[1;33m,\u001b[0m\u001b[1;36m10\u001b[0m\u001b[1;33m,\u001b[0m\u001b[1;36m10\u001b[0m\u001b[1;33m)\u001b[0m\u001b[1;33m\u001b[0m\u001b[1;33m\u001b[0m\u001b[0m\n\u001b[0m",
      "\u001b[1;31mNameError\u001b[0m: name 'Substration' is not defined"
     ]
    }
   ],
   "source": [
    "Substration(10,10,10)"
   ]
  },
  {
   "cell_type": "code",
   "execution_count": 19,
   "id": "644017df",
   "metadata": {},
   "outputs": [],
   "source": [
    "def num(var1,var2,var3,var4):\n",
    "    output = var1*var2*var3*var4\n",
    "    return output"
   ]
  },
  {
   "cell_type": "code",
   "execution_count": 20,
   "id": "fe053656",
   "metadata": {},
   "outputs": [
    {
     "data": {
      "text/plain": [
       "24"
      ]
     },
     "execution_count": 20,
     "metadata": {},
     "output_type": "execute_result"
    }
   ],
   "source": [
    "num(2,3,2,2)"
   ]
  },
  {
   "cell_type": "markdown",
   "id": "24f10fc0",
   "metadata": {},
   "source": [
    "# 2. Keyword Arguments\n",
    "\n",
    "You can also send arguments with the key = value syntax\n",
    "\n",
    "This way the order of the arguments does not matter"
   ]
  },
  {
   "cell_type": "code",
   "execution_count": 21,
   "id": "309abf1f",
   "metadata": {},
   "outputs": [],
   "source": [
    "def my_function(child3,child2,child1):\n",
    "    print(\"The youngest child is \" + child2)"
   ]
  },
  {
   "cell_type": "code",
   "execution_count": 22,
   "id": "f3e158d1",
   "metadata": {},
   "outputs": [
    {
     "name": "stdout",
     "output_type": "stream",
     "text": [
      "The youngest child is Anil\n"
     ]
    }
   ],
   "source": [
    "my_function(child1 = \"Hitesh\",child2 = \"Anil\", child3 = \"Nikita\")"
   ]
  },
  {
   "cell_type": "markdown",
   "id": "7d6ab667",
   "metadata": {},
   "source": [
    "# Default Parameter Value"
   ]
  },
  {
   "cell_type": "code",
   "execution_count": 27,
   "id": "c44e221b",
   "metadata": {},
   "outputs": [],
   "source": [
    "def my_function(country = \"Norway\"):\n",
    "    print(\"I am From \" + country)"
   ]
  },
  {
   "cell_type": "code",
   "execution_count": 28,
   "id": "9bce62ba",
   "metadata": {},
   "outputs": [
    {
     "name": "stdout",
     "output_type": "stream",
     "text": [
      "I am From Norway\n"
     ]
    }
   ],
   "source": [
    "my_function()"
   ]
  },
  {
   "cell_type": "code",
   "execution_count": 29,
   "id": "6e596441",
   "metadata": {},
   "outputs": [
    {
     "name": "stdout",
     "output_type": "stream",
     "text": [
      "I am From India\n"
     ]
    }
   ],
   "source": [
    "my_function(\"India\")"
   ]
  },
  {
   "cell_type": "code",
   "execution_count": 30,
   "id": "4cbce553",
   "metadata": {},
   "outputs": [],
   "source": [
    "def salary_hra(x,hra=4):\n",
    "    output = x*(hra/100)\n",
    "    return output"
   ]
  },
  {
   "cell_type": "code",
   "execution_count": 31,
   "id": "ee4913b3",
   "metadata": {},
   "outputs": [
    {
     "data": {
      "text/plain": [
       "400.0"
      ]
     },
     "execution_count": 31,
     "metadata": {},
     "output_type": "execute_result"
    }
   ],
   "source": [
    "salary_hra(10000)"
   ]
  },
  {
   "cell_type": "code",
   "execution_count": 32,
   "id": "a302a61f",
   "metadata": {},
   "outputs": [
    {
     "data": {
      "text/plain": [
       "600.0"
      ]
     },
     "execution_count": 32,
     "metadata": {},
     "output_type": "execute_result"
    }
   ],
   "source": [
    "salary_hra(10000,6)"
   ]
  },
  {
   "cell_type": "markdown",
   "id": "0f26a3f0",
   "metadata": {},
   "source": [
    "# Passing a list as a parameter\n",
    "\n",
    "You can send any datatypes of parameter to a function."
   ]
  },
  {
   "cell_type": "code",
   "execution_count": 33,
   "id": "cc67e667",
   "metadata": {},
   "outputs": [],
   "source": [
    "def my_function(food):\n",
    "    for x in food:\n",
    "        print(x)"
   ]
  },
  {
   "cell_type": "code",
   "execution_count": 34,
   "id": "c3948645",
   "metadata": {},
   "outputs": [
    {
     "data": {
      "text/plain": [
       "['apple', 'banana', 'cherry']"
      ]
     },
     "execution_count": 34,
     "metadata": {},
     "output_type": "execute_result"
    }
   ],
   "source": [
    "fruits = [\"apple\",\"banana\",\"cherry\"]\n",
    "fruits"
   ]
  },
  {
   "cell_type": "code",
   "execution_count": 35,
   "id": "8807c65e",
   "metadata": {},
   "outputs": [
    {
     "name": "stdout",
     "output_type": "stream",
     "text": [
      "apple\n",
      "banana\n",
      "cherry\n"
     ]
    }
   ],
   "source": [
    "my_function(fruits)"
   ]
  },
  {
   "cell_type": "markdown",
   "id": "15302592",
   "metadata": {},
   "source": [
    "### Return Values\n"
   ]
  },
  {
   "cell_type": "code",
   "execution_count": 37,
   "id": "0011b8b1",
   "metadata": {},
   "outputs": [],
   "source": [
    "def absolute_value(num):\n",
    "    if num >=3:\n",
    "        return num\n",
    "    else:\n",
    "        return -num\n",
    "    \n",
    "    # Output : 2\n",
    "    print(absolute_value(2))\n",
    "    \n",
    "    # Output : 4\n",
    "    print(absolute_value(4))"
   ]
  },
  {
   "cell_type": "markdown",
   "id": "55e4d286",
   "metadata": {},
   "source": [
    "# 4. Collecting Parameter or Arbitrary Arguments"
   ]
  },
  {
   "cell_type": "code",
   "execution_count": 38,
   "id": "9a4e14fe",
   "metadata": {},
   "outputs": [],
   "source": [
    "def my_function(*kids):\n",
    "    print(\"The youngest child is \" + kids[0])"
   ]
  },
  {
   "cell_type": "code",
   "execution_count": 39,
   "id": "f8bc2bd8",
   "metadata": {},
   "outputs": [
    {
     "name": "stdout",
     "output_type": "stream",
     "text": [
      "The youngest child is Dipak\n"
     ]
    }
   ],
   "source": [
    "my_function(\"Dipak\",\"Rahul\",\"Nikta\",\"Pratik\")"
   ]
  }
 ],
 "metadata": {
  "kernelspec": {
   "display_name": "Python 3 (ipykernel)",
   "language": "python",
   "name": "python3"
  },
  "language_info": {
   "codemirror_mode": {
    "name": "ipython",
    "version": 3
   },
   "file_extension": ".py",
   "mimetype": "text/x-python",
   "name": "python",
   "nbconvert_exporter": "python",
   "pygments_lexer": "ipython3",
   "version": "3.9.7"
  }
 },
 "nbformat": 4,
 "nbformat_minor": 5
}
